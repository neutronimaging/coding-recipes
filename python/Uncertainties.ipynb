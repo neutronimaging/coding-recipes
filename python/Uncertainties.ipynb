{
 "cells": [
  {
   "cell_type": "markdown",
   "id": "a89398d1",
   "metadata": {},
   "source": [
    "# Working with uncertainties"
   ]
  },
  {
   "cell_type": "code",
   "execution_count": 2,
   "id": "aa88e362",
   "metadata": {},
   "outputs": [],
   "source": [
    "from uncertainties import ufloat\n",
    "from uncertainties import unumpy as unp"
   ]
  },
  {
   "cell_type": "markdown",
   "id": "675f83ac",
   "metadata": {},
   "source": [
    "## Beer-Lamberts law\n",
    "We want to compute the thickness of an item in transmission imaging. We know\n",
    "- The attenuation coefficient $\\mu=4.3\\pm 0.1$\n",
    "- The open beam intensity $I_0=10356\\pm112$\n",
    "- The open beam intensity $I=7654\\pm80$"
   ]
  },
  {
   "cell_type": "markdown",
   "id": "7062e559",
   "metadata": {},
   "source": [
    "### Define some variables"
   ]
  },
  {
   "cell_type": "code",
   "execution_count": 4,
   "id": "f69a2342",
   "metadata": {},
   "outputs": [],
   "source": [
    "I0=ufloat(10356,112)\n",
    "I=ufloat(7654,80)\n",
    "mu=ufloat(4.3,0.1)"
   ]
  },
  {
   "cell_type": "markdown",
   "id": "28d01966",
   "metadata": {},
   "source": [
    "### Trying arithmetics"
   ]
  },
  {
   "cell_type": "code",
   "execution_count": 5,
   "id": "2fb80bca",
   "metadata": {},
   "outputs": [
    {
     "name": "stdout",
     "output_type": "stream",
     "text": [
      "0.739+/-0.011\n"
     ]
    }
   ],
   "source": [
    "T = I/I0\n",
    "print(T)"
   ]
  },
  {
   "cell_type": "markdown",
   "id": "b62b504c",
   "metadata": {},
   "source": [
    "### Use numpy functions\n",
    "Numpy is not directly supported in its normal form, but the uncertainty package has an alternative that can handle the new data type"
   ]
  },
  {
   "cell_type": "code",
   "execution_count": 6,
   "id": "9633c0fb",
   "metadata": {},
   "outputs": [
    {
     "name": "stdout",
     "output_type": "stream",
     "text": [
      "0.070+/-0.004\n"
     ]
    }
   ],
   "source": [
    "d=-unp.log(I/I0)/mu\n",
    "print(d)"
   ]
  },
  {
   "cell_type": "markdown",
   "id": "b8cd27a5",
   "metadata": {},
   "source": [
    "### Accesing nominal and uncertainty values\n",
    "This can be used to compute the relative uncertainty of a variabl"
   ]
  },
  {
   "cell_type": "code",
   "execution_count": 8,
   "id": "a5f89350",
   "metadata": {},
   "outputs": [
    {
     "name": "stdout",
     "output_type": "stream",
     "text": [
      "The relative uncertainty is: 0.055\n"
     ]
    }
   ],
   "source": [
    "r=d.std_dev/d.nominal_value\n",
    "print('The relative uncertainty is: {0:0.3f}'.format(r))"
   ]
  },
  {
   "cell_type": "code",
   "execution_count": null,
   "id": "e1717d2e",
   "metadata": {},
   "outputs": [],
   "source": []
  }
 ],
 "metadata": {
  "kernelspec": {
   "display_name": "Python 3 (ipykernel)",
   "language": "python",
   "name": "python3"
  },
  "language_info": {
   "codemirror_mode": {
    "name": "ipython",
    "version": 3
   },
   "file_extension": ".py",
   "mimetype": "text/x-python",
   "name": "python",
   "nbconvert_exporter": "python",
   "pygments_lexer": "ipython3",
   "version": "3.9.21"
  }
 },
 "nbformat": 4,
 "nbformat_minor": 5
}
