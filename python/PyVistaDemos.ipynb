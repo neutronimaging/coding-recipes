{
 "cells": [
  {
   "cell_type": "markdown",
   "id": "ff7116cb",
   "metadata": {},
   "source": [
    "# Volume rendering"
   ]
  },
  {
   "cell_type": "markdown",
   "id": "8918c6ae",
   "metadata": {},
   "source": [
    "## Prerequisites\n",
    "You need to install the following modules to run this notebook\n",
    "```bash\n",
    "$conda install -c conda-forge pyvista\n",
    "$conda install -c conda-forge imageio-ffmpeg\n",
    "```"
   ]
  },
  {
   "cell_type": "markdown",
   "id": "ca0fa65b",
   "metadata": {},
   "source": [
    "## Load modules"
   ]
  },
  {
   "cell_type": "code",
   "execution_count": 1,
   "id": "19c0358e",
   "metadata": {
    "ExecuteTime": {
     "end_time": "2023-05-09T18:33:33.263194Z",
     "start_time": "2023-05-09T18:33:31.895706Z"
    }
   },
   "outputs": [],
   "source": [
    "import numpy as np\n",
    "import matplotlib.pyplot as plt # not really needed but handy if you want to look at histogram and slices\n",
    "import pyvista as pv\n",
    "import tifffile as tiff"
   ]
  },
  {
   "cell_type": "markdown",
   "id": "164da652",
   "metadata": {},
   "source": [
    "## Load the data"
   ]
  },
  {
   "cell_type": "code",
   "execution_count": 2,
   "id": "c8482884",
   "metadata": {
    "ExecuteTime": {
     "end_time": "2023-05-09T18:33:34.321492Z",
     "start_time": "2023-05-09T18:33:34.289069Z"
    }
   },
   "outputs": [],
   "source": [
    "img=tiff.imread('legorecon.tif')"
   ]
  },
  {
   "cell_type": "markdown",
   "id": "3aa3a895",
   "metadata": {},
   "source": [
    "## Prepare data container\n",
    "PyVista needs to prepare a container that describes the volume. Here, we will connect the numpy array with a Uniform grig"
   ]
  },
  {
   "cell_type": "code",
   "execution_count": 3,
   "id": "cce4f4b0",
   "metadata": {
    "ExecuteTime": {
     "end_time": "2023-05-09T18:33:35.700266Z",
     "start_time": "2023-05-09T18:33:35.666424Z"
    }
   },
   "outputs": [
    {
     "name": "stderr",
     "output_type": "stream",
     "text": [
      "/Users/kaestner/anaconda3/lib/python3.11/site-packages/pyvista/core/grid.py:912: PyVistaDeprecationWarning: `UniformGrid` is deprecated. Use `ImageData` instead.\n",
      "  warnings.warn(\n"
     ]
    },
    {
     "ename": "AttributeError",
     "evalue": "module 'numpy' has no attribute 'bool'.\n`np.bool` was a deprecated alias for the builtin `bool`. To avoid this error in existing code, use `bool` by itself. Doing this will not modify any behavior and is safe. If you specifically wanted the numpy scalar type, use `np.bool_` here.\nThe aliases was originally deprecated in NumPy 1.20; for more details and guidance see the original release note at:\n    https://numpy.org/devdocs/release/1.20.0-notes.html#deprecations",
     "output_type": "error",
     "traceback": [
      "\u001b[0;31m---------------------------------------------------------------------------\u001b[0m",
      "\u001b[0;31mAttributeError\u001b[0m                            Traceback (most recent call last)",
      "Cell \u001b[0;32mIn[3], line 13\u001b[0m\n\u001b[1;32m     10\u001b[0m grid\u001b[38;5;241m.\u001b[39mspacing \u001b[38;5;241m=\u001b[39m (\u001b[38;5;241m1\u001b[39m, \u001b[38;5;241m1\u001b[39m, \u001b[38;5;241m1\u001b[39m)  \u001b[38;5;66;03m# These are the cell sizes along each axis, i.e., the pixel size \u001b[39;00m\n\u001b[1;32m     12\u001b[0m \u001b[38;5;66;03m# Add the data values to the cell data\u001b[39;00m\n\u001b[0;32m---> 13\u001b[0m grid\u001b[38;5;241m.\u001b[39mcell_data[\u001b[38;5;124m\"\u001b[39m\u001b[38;5;124mvalues\u001b[39m\u001b[38;5;124m\"\u001b[39m] \u001b[38;5;241m=\u001b[39m img\u001b[38;5;241m.\u001b[39mflatten(order\u001b[38;5;241m=\u001b[39m\u001b[38;5;124m\"\u001b[39m\u001b[38;5;124mF\u001b[39m\u001b[38;5;124m\"\u001b[39m)\n",
      "File \u001b[0;32m~/anaconda3/lib/python3.11/site-packages/pyvista/core/datasetattributes.py:221\u001b[0m, in \u001b[0;36mDataSetAttributes.__setitem__\u001b[0;34m(self, key, value)\u001b[0m\n\u001b[1;32m    218\u001b[0m     \u001b[38;5;28;01mraise\u001b[39;00m \u001b[38;5;167;01mTypeError\u001b[39;00m(\u001b[38;5;124m'\u001b[39m\u001b[38;5;124mOnly strings are valid keys for DataSetAttributes.\u001b[39m\u001b[38;5;124m'\u001b[39m)\n\u001b[1;32m    220\u001b[0m has_arr \u001b[38;5;241m=\u001b[39m key \u001b[38;5;129;01min\u001b[39;00m \u001b[38;5;28mself\u001b[39m\n\u001b[0;32m--> 221\u001b[0m \u001b[38;5;28mself\u001b[39m\u001b[38;5;241m.\u001b[39mset_array(value, name\u001b[38;5;241m=\u001b[39mkey)\n\u001b[1;32m    223\u001b[0m \u001b[38;5;66;03m# do not make array active if it already exists.  This covers\u001b[39;00m\n\u001b[1;32m    224\u001b[0m \u001b[38;5;66;03m# an inplace update like self.point_data[key] += 1\u001b[39;00m\n\u001b[1;32m    225\u001b[0m \u001b[38;5;28;01mif\u001b[39;00m has_arr:\n",
      "File \u001b[0;32m~/anaconda3/lib/python3.11/site-packages/pyvista/core/datasetattributes.py:600\u001b[0m, in \u001b[0;36mDataSetAttributes.set_array\u001b[0;34m(self, data, name, deep_copy)\u001b[0m\n\u001b[1;32m    597\u001b[0m \u001b[38;5;28;01mif\u001b[39;00m \u001b[38;5;129;01mnot\u001b[39;00m \u001b[38;5;28misinstance\u001b[39m(name, \u001b[38;5;28mstr\u001b[39m):\n\u001b[1;32m    598\u001b[0m     \u001b[38;5;28;01mraise\u001b[39;00m \u001b[38;5;167;01mTypeError\u001b[39;00m(\u001b[38;5;124m'\u001b[39m\u001b[38;5;124m`name` must be a string\u001b[39m\u001b[38;5;124m'\u001b[39m)\n\u001b[0;32m--> 600\u001b[0m vtk_arr \u001b[38;5;241m=\u001b[39m \u001b[38;5;28mself\u001b[39m\u001b[38;5;241m.\u001b[39m_prepare_array(data, name, deep_copy)\n\u001b[1;32m    601\u001b[0m \u001b[38;5;28mself\u001b[39m\u001b[38;5;241m.\u001b[39mVTKObject\u001b[38;5;241m.\u001b[39mAddArray(vtk_arr)\n\u001b[1;32m    602\u001b[0m \u001b[38;5;28mself\u001b[39m\u001b[38;5;241m.\u001b[39mVTKObject\u001b[38;5;241m.\u001b[39mModified()\n",
      "File \u001b[0;32m~/anaconda3/lib/python3.11/site-packages/pyvista/core/datasetattributes.py:850\u001b[0m, in \u001b[0;36mDataSetAttributes._prepare_array\u001b[0;34m(self, data, name, deep_copy)\u001b[0m\n\u001b[1;32m    845\u001b[0m \u001b[38;5;66;03m# this handles the case when an input array is directly added to the\u001b[39;00m\n\u001b[1;32m    846\u001b[0m \u001b[38;5;66;03m# output. We want to make sure that the array added to the output is not\u001b[39;00m\n\u001b[1;32m    847\u001b[0m \u001b[38;5;66;03m# referring to the input dataset.\u001b[39;00m\n\u001b[1;32m    848\u001b[0m copy \u001b[38;5;241m=\u001b[39m pyvista_ndarray(data)\n\u001b[0;32m--> 850\u001b[0m \u001b[38;5;28;01mreturn\u001b[39;00m convert_array(copy, name, deep\u001b[38;5;241m=\u001b[39mdeep_copy)\n",
      "File \u001b[0;32m~/anaconda3/lib/python3.11/site-packages/pyvista/core/utilities/arrays.py:217\u001b[0m, in \u001b[0;36mconvert_array\u001b[0;34m(arr, name, deep, array_type)\u001b[0m\n\u001b[1;32m    214\u001b[0m \u001b[38;5;28;01melse\u001b[39;00m:\n\u001b[1;32m    215\u001b[0m     \u001b[38;5;66;03m# This will handle numerical data\u001b[39;00m\n\u001b[1;32m    216\u001b[0m     arr \u001b[38;5;241m=\u001b[39m np\u001b[38;5;241m.\u001b[39mascontiguousarray(arr)\n\u001b[0;32m--> 217\u001b[0m     vtk_data \u001b[38;5;241m=\u001b[39m _vtk\u001b[38;5;241m.\u001b[39mnumpy_to_vtk(num_array\u001b[38;5;241m=\u001b[39marr, deep\u001b[38;5;241m=\u001b[39mdeep, array_type\u001b[38;5;241m=\u001b[39marray_type)\n\u001b[1;32m    218\u001b[0m \u001b[38;5;28;01mif\u001b[39;00m \u001b[38;5;28misinstance\u001b[39m(name, \u001b[38;5;28mstr\u001b[39m):\n\u001b[1;32m    219\u001b[0m     vtk_data\u001b[38;5;241m.\u001b[39mSetName(name)\n",
      "File \u001b[0;32m~/anaconda3/lib/python3.11/site-packages/vtkmodules/util/numpy_support.py:164\u001b[0m, in \u001b[0;36mnumpy_to_vtk\u001b[0;34m(num_array, deep, array_type)\u001b[0m\n\u001b[1;32m    161\u001b[0m result_array\u001b[38;5;241m.\u001b[39mSetNumberOfTuples(shape[\u001b[38;5;241m0\u001b[39m])\n\u001b[1;32m    163\u001b[0m \u001b[38;5;66;03m# Ravel the array appropriately.\u001b[39;00m\n\u001b[0;32m--> 164\u001b[0m arr_dtype \u001b[38;5;241m=\u001b[39m get_numpy_array_type(vtk_typecode)\n\u001b[1;32m    165\u001b[0m \u001b[38;5;28;01mif\u001b[39;00m numpy\u001b[38;5;241m.\u001b[39missubdtype(z\u001b[38;5;241m.\u001b[39mdtype, arr_dtype) \u001b[38;5;129;01mor\u001b[39;00m \\\n\u001b[1;32m    166\u001b[0m    z\u001b[38;5;241m.\u001b[39mdtype \u001b[38;5;241m==\u001b[39m numpy\u001b[38;5;241m.\u001b[39mdtype(arr_dtype):\n\u001b[1;32m    167\u001b[0m     z_flat \u001b[38;5;241m=\u001b[39m numpy\u001b[38;5;241m.\u001b[39mravel(z)\n",
      "File \u001b[0;32m~/anaconda3/lib/python3.11/site-packages/vtkmodules/util/numpy_support.py:94\u001b[0m, in \u001b[0;36mget_numpy_array_type\u001b[0;34m(vtk_array_type)\u001b[0m\n\u001b[1;32m     92\u001b[0m \u001b[38;5;28;01mdef\u001b[39;00m \u001b[38;5;21mget_numpy_array_type\u001b[39m(vtk_array_type):\n\u001b[1;32m     93\u001b[0m \u001b[38;5;250m    \u001b[39m\u001b[38;5;124;03m\"\"\"Returns a numpy array typecode given a VTK array type.\"\"\"\u001b[39;00m\n\u001b[0;32m---> 94\u001b[0m     \u001b[38;5;28;01mreturn\u001b[39;00m get_vtk_to_numpy_typemap()[vtk_array_type]\n",
      "File \u001b[0;32m~/anaconda3/lib/python3.11/site-packages/vtkmodules/util/numpy_support.py:74\u001b[0m, in \u001b[0;36mget_vtk_to_numpy_typemap\u001b[0;34m()\u001b[0m\n\u001b[1;32m     72\u001b[0m \u001b[38;5;28;01mdef\u001b[39;00m \u001b[38;5;21mget_vtk_to_numpy_typemap\u001b[39m():\n\u001b[1;32m     73\u001b[0m \u001b[38;5;250m    \u001b[39m\u001b[38;5;124;03m\"\"\"Returns the VTK array type to numpy array type mapping.\"\"\"\u001b[39;00m\n\u001b[0;32m---> 74\u001b[0m     _vtk_np \u001b[38;5;241m=\u001b[39m {vtkConstants\u001b[38;5;241m.\u001b[39mVTK_BIT:numpy\u001b[38;5;241m.\u001b[39mbool,\n\u001b[1;32m     75\u001b[0m                 vtkConstants\u001b[38;5;241m.\u001b[39mVTK_CHAR:numpy\u001b[38;5;241m.\u001b[39mint8,\n\u001b[1;32m     76\u001b[0m                 vtkConstants\u001b[38;5;241m.\u001b[39mVTK_SIGNED_CHAR:numpy\u001b[38;5;241m.\u001b[39mint8,\n\u001b[1;32m     77\u001b[0m                 vtkConstants\u001b[38;5;241m.\u001b[39mVTK_UNSIGNED_CHAR:numpy\u001b[38;5;241m.\u001b[39muint8,\n\u001b[1;32m     78\u001b[0m                 vtkConstants\u001b[38;5;241m.\u001b[39mVTK_SHORT:numpy\u001b[38;5;241m.\u001b[39mint16,\n\u001b[1;32m     79\u001b[0m                 vtkConstants\u001b[38;5;241m.\u001b[39mVTK_UNSIGNED_SHORT:numpy\u001b[38;5;241m.\u001b[39muint16,\n\u001b[1;32m     80\u001b[0m                 vtkConstants\u001b[38;5;241m.\u001b[39mVTK_INT:numpy\u001b[38;5;241m.\u001b[39mint32,\n\u001b[1;32m     81\u001b[0m                 vtkConstants\u001b[38;5;241m.\u001b[39mVTK_UNSIGNED_INT:numpy\u001b[38;5;241m.\u001b[39muint32,\n\u001b[1;32m     82\u001b[0m                 vtkConstants\u001b[38;5;241m.\u001b[39mVTK_LONG:LONG_TYPE_CODE,\n\u001b[1;32m     83\u001b[0m                 vtkConstants\u001b[38;5;241m.\u001b[39mVTK_LONG_LONG:numpy\u001b[38;5;241m.\u001b[39mint64,\n\u001b[1;32m     84\u001b[0m                 vtkConstants\u001b[38;5;241m.\u001b[39mVTK_UNSIGNED_LONG:ULONG_TYPE_CODE,\n\u001b[1;32m     85\u001b[0m                 vtkConstants\u001b[38;5;241m.\u001b[39mVTK_UNSIGNED_LONG_LONG:numpy\u001b[38;5;241m.\u001b[39muint64,\n\u001b[1;32m     86\u001b[0m                 vtkConstants\u001b[38;5;241m.\u001b[39mVTK_ID_TYPE:ID_TYPE_CODE,\n\u001b[1;32m     87\u001b[0m                 vtkConstants\u001b[38;5;241m.\u001b[39mVTK_FLOAT:numpy\u001b[38;5;241m.\u001b[39mfloat32,\n\u001b[1;32m     88\u001b[0m                 vtkConstants\u001b[38;5;241m.\u001b[39mVTK_DOUBLE:numpy\u001b[38;5;241m.\u001b[39mfloat64}\n\u001b[1;32m     89\u001b[0m     \u001b[38;5;28;01mreturn\u001b[39;00m _vtk_np\n",
      "File \u001b[0;32m~/anaconda3/lib/python3.11/site-packages/numpy/__init__.py:305\u001b[0m, in \u001b[0;36m__getattr__\u001b[0;34m(attr)\u001b[0m\n\u001b[1;32m    300\u001b[0m     warnings\u001b[38;5;241m.\u001b[39mwarn(\n\u001b[1;32m    301\u001b[0m         \u001b[38;5;124mf\u001b[39m\u001b[38;5;124m\"\u001b[39m\u001b[38;5;124mIn the future `np.\u001b[39m\u001b[38;5;132;01m{\u001b[39;00mattr\u001b[38;5;132;01m}\u001b[39;00m\u001b[38;5;124m` will be defined as the \u001b[39m\u001b[38;5;124m\"\u001b[39m\n\u001b[1;32m    302\u001b[0m         \u001b[38;5;124m\"\u001b[39m\u001b[38;5;124mcorresponding NumPy scalar.\u001b[39m\u001b[38;5;124m\"\u001b[39m, \u001b[38;5;167;01mFutureWarning\u001b[39;00m, stacklevel\u001b[38;5;241m=\u001b[39m\u001b[38;5;241m2\u001b[39m)\n\u001b[1;32m    304\u001b[0m \u001b[38;5;28;01mif\u001b[39;00m attr \u001b[38;5;129;01min\u001b[39;00m __former_attrs__:\n\u001b[0;32m--> 305\u001b[0m     \u001b[38;5;28;01mraise\u001b[39;00m \u001b[38;5;167;01mAttributeError\u001b[39;00m(__former_attrs__[attr])\n\u001b[1;32m    307\u001b[0m \u001b[38;5;66;03m# Importing Tester requires importing all of UnitTest which is not a\u001b[39;00m\n\u001b[1;32m    308\u001b[0m \u001b[38;5;66;03m# cheap import Since it is mainly used in test suits, we lazy import it\u001b[39;00m\n\u001b[1;32m    309\u001b[0m \u001b[38;5;66;03m# here to save on the order of 10 ms of import time for most users\u001b[39;00m\n\u001b[1;32m    310\u001b[0m \u001b[38;5;66;03m#\u001b[39;00m\n\u001b[1;32m    311\u001b[0m \u001b[38;5;66;03m# The previous way Tester was imported also had a side effect of adding\u001b[39;00m\n\u001b[1;32m    312\u001b[0m \u001b[38;5;66;03m# the full `numpy.testing` namespace\u001b[39;00m\n\u001b[1;32m    313\u001b[0m \u001b[38;5;28;01mif\u001b[39;00m attr \u001b[38;5;241m==\u001b[39m \u001b[38;5;124m'\u001b[39m\u001b[38;5;124mtesting\u001b[39m\u001b[38;5;124m'\u001b[39m:\n",
      "\u001b[0;31mAttributeError\u001b[0m: module 'numpy' has no attribute 'bool'.\n`np.bool` was a deprecated alias for the builtin `bool`. To avoid this error in existing code, use `bool` by itself. Doing this will not modify any behavior and is safe. If you specifically wanted the numpy scalar type, use `np.bool_` here.\nThe aliases was originally deprecated in NumPy 1.20; for more details and guidance see the original release note at:\n    https://numpy.org/devdocs/release/1.20.0-notes.html#deprecations"
     ]
    }
   ],
   "source": [
    "# Create the spatial reference\n",
    "grid = pv.UniformGrid()\n",
    "\n",
    "# Set the grid dimensions: shape + 1 because we want to inject our values on\n",
    "#   the CELL data\n",
    "grid.dimensions = np.array(img.shape) + 1\n",
    "\n",
    "# Edit the spatial reference\n",
    "grid.origin = (0, 0, 0)   # The bottom left corner of the data set\n",
    "grid.spacing = (1, 1, 1)  # These are the cell sizes along each axis, i.e., the pixel size \n",
    "\n",
    "# Add the data values to the cell data\n",
    "grid.cell_data[\"values\"] = img.flatten(order=\"F\")  # Flatten the array!"
   ]
  },
  {
   "cell_type": "markdown",
   "id": "6f129a34",
   "metadata": {},
   "source": [
    "## Interactive rendering\n",
    "This mode allows you to interact with the rendered data using the mouse. You can grab and rotate the volume and other manipulators. \n",
    "\n",
    "This is the method you'd use to explore you data."
   ]
  },
  {
   "cell_type": "markdown",
   "id": "f9fe15cb",
   "metadata": {},
   "source": [
    "### Arbitrary cut planes\n",
    "This can take a while to render, and the interaction is quite slow."
   ]
  },
  {
   "cell_type": "code",
   "execution_count": 5,
   "id": "3ae1c292",
   "metadata": {
    "ExecuteTime": {
     "end_time": "2023-05-09T18:33:54.556180Z",
     "start_time": "2023-05-09T18:33:53.782211Z"
    }
   },
   "outputs": [
    {
     "data": {
      "application/vnd.jupyter.widget-view+json": {
       "model_id": "42589976b83c4b61871b56aa63d3f47c",
       "version_major": 2,
       "version_minor": 0
      },
      "text/plain": [
       "ViewInteractiveWidget(height=768, layout=Layout(height='auto', width='100%'), width=1024)"
      ]
     },
     "metadata": {},
     "output_type": "display_data"
    }
   ],
   "source": [
    "p = pv.Plotter()\n",
    "p.add_mesh_clip_plane(grid)\n",
    "p.show()"
   ]
  },
  {
   "cell_type": "markdown",
   "id": "d594437c",
   "metadata": {},
   "source": [
    "### Orthogonal planes\n",
    "This is a faster option and you can still rotate the scene with the mouse."
   ]
  },
  {
   "cell_type": "code",
   "execution_count": 6,
   "id": "d842e587",
   "metadata": {
    "ExecuteTime": {
     "end_time": "2023-05-09T18:33:58.689024Z",
     "start_time": "2023-05-09T18:33:58.221225Z"
    },
    "scrolled": true
   },
   "outputs": [
    {
     "data": {
      "application/vnd.jupyter.widget-view+json": {
       "model_id": "6b069c7b80d348baba2c4b890753397a",
       "version_major": 2,
       "version_minor": 0
      },
      "text/plain": [
       "ViewInteractiveWidget(height=768, layout=Layout(height='auto', width='100%'), width=1024)"
      ]
     },
     "metadata": {},
     "output_type": "display_data"
    }
   ],
   "source": [
    "slices = grid.slice_orthogonal(x=img.shape[0]//2, z=img.shape[2]//2)\n",
    "cpos = [\n",
    "    (540.9115516905358, -617.1912234499737, 180.5084853429126),\n",
    "    (128.31920055083387, 126.4977720785509, 111.77682599082095),\n",
    "    (-0.1065160140819035, 0.032750075477590124, 0.9937714884722322),\n",
    "]\n",
    "dargs = dict(cmap='plasma')\n",
    "\n",
    "p = pv.Plotter()\n",
    "p.add_mesh(slices, **dargs)\n",
    "\n",
    "p.show()"
   ]
  },
  {
   "cell_type": "markdown",
   "id": "6ea772f3",
   "metadata": {},
   "source": [
    "### Change the opaticty"
   ]
  },
  {
   "cell_type": "code",
   "execution_count": 7,
   "id": "06d6ff5f",
   "metadata": {
    "ExecuteTime": {
     "end_time": "2023-05-09T18:34:00.385812Z",
     "start_time": "2023-05-09T18:34:00.148083Z"
    },
    "scrolled": true
   },
   "outputs": [
    {
     "data": {
      "application/vnd.jupyter.widget-view+json": {
       "model_id": "979914c3a9474e87b91974c3783d2ed8",
       "version_major": 2,
       "version_minor": 0
      },
      "text/plain": [
       "ViewInteractiveWidget(height=768, layout=Layout(height='auto', width='100%'), width=1024)"
      ]
     },
     "metadata": {},
     "output_type": "display_data"
    }
   ],
   "source": [
    "\n",
    "p1 = pv.Plotter()\n",
    "va = p1.add_volume(img,cmap='viridis')\n",
    "f = lambda val: va.GetProperty().SetScalarOpacityUnitDistance(val)\n",
    "p1.add_slider_widget(f, [-0.1, 1], title=\"Opacity Distance\")\n",
    "p1.show()"
   ]
  },
  {
   "cell_type": "markdown",
   "id": "7209455d",
   "metadata": {},
   "source": [
    "## Movies"
   ]
  },
  {
   "cell_type": "markdown",
   "id": "64129096",
   "metadata": {},
   "source": [
    "### Basic example with geometric model\n",
    "This first example uses a mesh in the rendering."
   ]
  },
  {
   "cell_type": "code",
   "execution_count": 10,
   "id": "e72f85f6",
   "metadata": {
    "ExecuteTime": {
     "end_time": "2023-04-04T12:07:21.155566Z",
     "start_time": "2023-04-04T12:07:13.409983Z"
    },
    "scrolled": false
   },
   "outputs": [
    {
     "data": {
      "application/vnd.jupyter.widget-view+json": {
       "model_id": "0ac97ee7455842d78651ae32843f82f5",
       "version_major": 2,
       "version_minor": 0
      },
      "text/plain": [
       "ViewInteractiveWidget(height=768, layout=Layout(height='auto', width='100%'), width=1024)"
      ]
     },
     "metadata": {},
     "output_type": "display_data"
    }
   ],
   "source": [
    "import numpy as np\n",
    "\n",
    "import pyvista as pv\n",
    "\n",
    "filename = \"sphere-shrinking.mp4\"\n",
    "\n",
    "mesh = pv.Sphere()\n",
    "mesh.cell_data[\"data\"] = np.random.random(mesh.n_cells)\n",
    "\n",
    "plotter = pv.Plotter()\n",
    "# Open a movie file\n",
    "plotter.open_movie(filename)\n",
    "\n",
    "# Add initial mesh\n",
    "plotter.add_mesh(mesh, scalars=\"data\", clim=[0, 1])\n",
    "# Add outline for shrinking reference\n",
    "plotter.add_mesh(mesh.outline_corners())\n",
    "\n",
    "plotter.show(auto_close=False)  # only necessary for an off-screen movie\n",
    "\n",
    "# Run through each frame\n",
    "plotter.write_frame()  # write initial data\n",
    "\n",
    "# Update scalars on each frame\n",
    "for i in range(100):\n",
    "    random_points = np.random.random(mesh.points.shape)\n",
    "    mesh.points = random_points * 0.01 + mesh.points * 0.99\n",
    "    mesh.points -= mesh.points.mean(0)\n",
    "    mesh.cell_data[\"data\"] = np.random.random(mesh.n_cells)\n",
    "    plotter.add_text(f\"Iteration: {i}\", name='time-label')\n",
    "    plotter.write_frame()  # Write this frame\n",
    "\n",
    "# Be sure to close the plotter when finished\n",
    "plotter.close()"
   ]
  },
  {
   "cell_type": "markdown",
   "id": "ad52f12b",
   "metadata": {},
   "source": [
    "### Orbiting orthoplanes"
   ]
  },
  {
   "cell_type": "code",
   "execution_count": 11,
   "id": "35870c4f",
   "metadata": {
    "ExecuteTime": {
     "end_time": "2023-04-04T12:07:27.299371Z",
     "start_time": "2023-04-04T12:07:22.929251Z"
    },
    "scrolled": false
   },
   "outputs": [
    {
     "data": {
      "application/vnd.jupyter.widget-view+json": {
       "model_id": "7e64e4440a774ee995f12d07316d8ee8",
       "version_major": 2,
       "version_minor": 0
      },
      "text/plain": [
       "ViewInteractiveWidget(height=768, layout=Layout(height='auto', width='100%'), width=1024)"
      ]
     },
     "metadata": {},
     "output_type": "display_data"
    }
   ],
   "source": [
    "p = pv.Plotter()\n",
    "p.set_background('white')\n",
    "p.add_mesh(slices, lighting=False)\n",
    "p.camera.zoom(2.5)\n",
    "p.show(auto_close=False)\n",
    "path = p.generate_orbital_path(n_points=36, shift=mesh.length)\n",
    "filename='orthoplanes.mp4'\n",
    "#p.open_movie(filename)\n",
    "p.open_gif(\"orbit.gif\")\n",
    "p.orbit_on_path(path, write_frames=True)\n",
    "# p.orbit_on_path(path)\n",
    "p.close()"
   ]
  }
 ],
 "metadata": {
  "kernelspec": {
   "display_name": "Python 3 (ipykernel)",
   "language": "python",
   "name": "python3"
  },
  "language_info": {
   "codemirror_mode": {
    "name": "ipython",
    "version": 3
   },
   "file_extension": ".py",
   "mimetype": "text/x-python",
   "name": "python",
   "nbconvert_exporter": "python",
   "pygments_lexer": "ipython3",
   "version": "3.11.4"
  },
  "varInspector": {
   "cols": {
    "lenName": 16,
    "lenType": 16,
    "lenVar": 40
   },
   "kernels_config": {
    "python": {
     "delete_cmd_postfix": "",
     "delete_cmd_prefix": "del ",
     "library": "var_list.py",
     "varRefreshCmd": "print(var_dic_list())"
    },
    "r": {
     "delete_cmd_postfix": ") ",
     "delete_cmd_prefix": "rm(",
     "library": "var_list.r",
     "varRefreshCmd": "cat(var_dic_list()) "
    }
   },
   "types_to_exclude": [
    "module",
    "function",
    "builtin_function_or_method",
    "instance",
    "_Feature"
   ],
   "window_display": false
  }
 },
 "nbformat": 4,
 "nbformat_minor": 5
}
