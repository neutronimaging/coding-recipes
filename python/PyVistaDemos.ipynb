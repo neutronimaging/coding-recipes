{
 "cells": [
  {
   "cell_type": "markdown",
   "id": "ff7116cb",
   "metadata": {},
   "source": [
    "# Volume rendering"
   ]
  },
  {
   "cell_type": "markdown",
   "id": "8918c6ae",
   "metadata": {},
   "source": [
    "## Prerequisites\n",
    "You need to install the following modules to run this notebook\n",
    "```bash\n",
    "$conda install -c conda-forge pyvista\n",
    "$conda install -c conda-forge imageio-ffmpeg\n",
    "```"
   ]
  },
  {
   "cell_type": "markdown",
   "id": "ca0fa65b",
   "metadata": {},
   "source": [
    "## Load modules"
   ]
  },
  {
   "cell_type": "code",
   "execution_count": 2,
   "id": "19c0358e",
   "metadata": {
    "ExecuteTime": {
     "end_time": "2023-04-04T12:06:22.073479Z",
     "start_time": "2023-04-04T12:06:21.490877Z"
    }
   },
   "outputs": [],
   "source": [
    "import numpy as np\n",
    "import matplotlib.pyplot as plt # not really needed but handy if you want to look at histogram and slices\n",
    "import pyvista as pv\n",
    "import tifffile as tiff"
   ]
  },
  {
   "cell_type": "markdown",
   "id": "164da652",
   "metadata": {},
   "source": [
    "## Load the data"
   ]
  },
  {
   "cell_type": "code",
   "execution_count": 3,
   "id": "c8482884",
   "metadata": {
    "ExecuteTime": {
     "end_time": "2023-04-04T12:06:22.945526Z",
     "start_time": "2023-04-04T12:06:22.912553Z"
    }
   },
   "outputs": [],
   "source": [
    "img=tiff.imread('legorecon.tif')"
   ]
  },
  {
   "cell_type": "markdown",
   "id": "3aa3a895",
   "metadata": {},
   "source": [
    "## Prepare data container\n",
    "PyVista needs to prepare a container that describes the volume. Here, we will connect the numpy array with a Uniform grig"
   ]
  },
  {
   "cell_type": "code",
   "execution_count": 4,
   "id": "cce4f4b0",
   "metadata": {
    "ExecuteTime": {
     "end_time": "2023-04-04T12:06:24.665843Z",
     "start_time": "2023-04-04T12:06:24.622971Z"
    }
   },
   "outputs": [],
   "source": [
    "# Create the spatial reference\n",
    "grid = pv.UniformGrid()\n",
    "\n",
    "# Set the grid dimensions: shape + 1 because we want to inject our values on\n",
    "#   the CELL data\n",
    "grid.dimensions = np.array(img.shape) + 1\n",
    "\n",
    "# Edit the spatial reference\n",
    "grid.origin = (0, 0, 0)   # The bottom left corner of the data set\n",
    "grid.spacing = (1, 1, 1)  # These are the cell sizes along each axis, i.e., the pixel size \n",
    "\n",
    "# Add the data values to the cell data\n",
    "grid.cell_data[\"values\"] = img.flatten(order=\"F\")  # Flatten the array!"
   ]
  },
  {
   "cell_type": "markdown",
   "id": "6f129a34",
   "metadata": {},
   "source": [
    "## Interactive rendering\n",
    "This mode allows you to interact with the rendered data using the mouse. You can grab and rotate the volume and other manipulators. \n",
    "\n",
    "This is the method you'd use to explore you data."
   ]
  },
  {
   "cell_type": "markdown",
   "id": "f9fe15cb",
   "metadata": {},
   "source": [
    "### Arbitrary cut planes\n",
    "This can take a while to render, and the interaction is quite slow."
   ]
  },
  {
   "cell_type": "code",
   "execution_count": 6,
   "id": "3ae1c292",
   "metadata": {
    "ExecuteTime": {
     "end_time": "2023-04-04T12:06:39.546874Z",
     "start_time": "2023-04-04T12:06:38.506725Z"
    }
   },
   "outputs": [
    {
     "data": {
      "application/vnd.jupyter.widget-view+json": {
       "model_id": "a6373029a9b04c48bfb1cbcb1d4362d2",
       "version_major": 2,
       "version_minor": 0
      },
      "text/plain": [
       "ViewInteractiveWidget(height=768, layout=Layout(height='auto', width='100%'), width=1024)"
      ]
     },
     "metadata": {},
     "output_type": "display_data"
    }
   ],
   "source": [
    "p = pv.Plotter()\n",
    "p.add_mesh_clip_plane(grid)\n",
    "p.show()"
   ]
  },
  {
   "cell_type": "markdown",
   "id": "d594437c",
   "metadata": {},
   "source": [
    "### Orthogonal planes\n",
    "This is a faster option and you can still rotate the scene with the mouse."
   ]
  },
  {
   "cell_type": "code",
   "execution_count": 7,
   "id": "d842e587",
   "metadata": {
    "ExecuteTime": {
     "end_time": "2023-04-04T12:06:50.821109Z",
     "start_time": "2023-04-04T12:06:50.369996Z"
    },
    "scrolled": true
   },
   "outputs": [
    {
     "data": {
      "application/vnd.jupyter.widget-view+json": {
       "model_id": "ceb898799e56449387a7494f29361a4f",
       "version_major": 2,
       "version_minor": 0
      },
      "text/plain": [
       "ViewInteractiveWidget(height=768, layout=Layout(height='auto', width='100%'), width=1024)"
      ]
     },
     "metadata": {},
     "output_type": "display_data"
    }
   ],
   "source": [
    "slices = grid.slice_orthogonal(x=img.shape[0]//2, z=img.shape[2]//2)\n",
    "cpos = [\n",
    "    (540.9115516905358, -617.1912234499737, 180.5084853429126),\n",
    "    (128.31920055083387, 126.4977720785509, 111.77682599082095),\n",
    "    (-0.1065160140819035, 0.032750075477590124, 0.9937714884722322),\n",
    "]\n",
    "dargs = dict(cmap='plasma')\n",
    "\n",
    "p = pv.Plotter()\n",
    "p.add_mesh(slices, **dargs)\n",
    "\n",
    "p.show()"
   ]
  },
  {
   "cell_type": "markdown",
   "id": "6ea772f3",
   "metadata": {},
   "source": [
    "### Change the opaticty"
   ]
  },
  {
   "cell_type": "code",
   "execution_count": 8,
   "id": "06d6ff5f",
   "metadata": {
    "ExecuteTime": {
     "end_time": "2023-04-04T12:06:55.110165Z",
     "start_time": "2023-04-04T12:06:54.923062Z"
    },
    "scrolled": true
   },
   "outputs": [
    {
     "data": {
      "application/vnd.jupyter.widget-view+json": {
       "model_id": "14671cb66a844faf8a2d832c2faca002",
       "version_major": 2,
       "version_minor": 0
      },
      "text/plain": [
       "ViewInteractiveWidget(height=768, layout=Layout(height='auto', width='100%'), width=1024)"
      ]
     },
     "metadata": {},
     "output_type": "display_data"
    }
   ],
   "source": [
    "\n",
    "p1 = pv.Plotter()\n",
    "va = p1.add_volume(img,cmap='viridis')\n",
    "f = lambda val: va.GetProperty().SetScalarOpacityUnitDistance(val)\n",
    "p1.add_slider_widget(f, [-0.1, 1], title=\"Opacity Distance\")\n",
    "p1.show()"
   ]
  },
  {
   "cell_type": "markdown",
   "id": "7209455d",
   "metadata": {},
   "source": [
    "## Movies"
   ]
  },
  {
   "cell_type": "markdown",
   "id": "64129096",
   "metadata": {},
   "source": [
    "### Basic example with geometric model\n",
    "This first example uses a mesh in the rendering."
   ]
  },
  {
   "cell_type": "code",
   "execution_count": 10,
   "id": "e72f85f6",
   "metadata": {
    "ExecuteTime": {
     "end_time": "2023-04-04T12:07:21.155566Z",
     "start_time": "2023-04-04T12:07:13.409983Z"
    },
    "scrolled": false
   },
   "outputs": [
    {
     "data": {
      "application/vnd.jupyter.widget-view+json": {
       "model_id": "0ac97ee7455842d78651ae32843f82f5",
       "version_major": 2,
       "version_minor": 0
      },
      "text/plain": [
       "ViewInteractiveWidget(height=768, layout=Layout(height='auto', width='100%'), width=1024)"
      ]
     },
     "metadata": {},
     "output_type": "display_data"
    }
   ],
   "source": [
    "import numpy as np\n",
    "\n",
    "import pyvista as pv\n",
    "\n",
    "filename = \"sphere-shrinking.mp4\"\n",
    "\n",
    "mesh = pv.Sphere()\n",
    "mesh.cell_data[\"data\"] = np.random.random(mesh.n_cells)\n",
    "\n",
    "plotter = pv.Plotter()\n",
    "# Open a movie file\n",
    "plotter.open_movie(filename)\n",
    "\n",
    "# Add initial mesh\n",
    "plotter.add_mesh(mesh, scalars=\"data\", clim=[0, 1])\n",
    "# Add outline for shrinking reference\n",
    "plotter.add_mesh(mesh.outline_corners())\n",
    "\n",
    "plotter.show(auto_close=False)  # only necessary for an off-screen movie\n",
    "\n",
    "# Run through each frame\n",
    "plotter.write_frame()  # write initial data\n",
    "\n",
    "# Update scalars on each frame\n",
    "for i in range(100):\n",
    "    random_points = np.random.random(mesh.points.shape)\n",
    "    mesh.points = random_points * 0.01 + mesh.points * 0.99\n",
    "    mesh.points -= mesh.points.mean(0)\n",
    "    mesh.cell_data[\"data\"] = np.random.random(mesh.n_cells)\n",
    "    plotter.add_text(f\"Iteration: {i}\", name='time-label')\n",
    "    plotter.write_frame()  # Write this frame\n",
    "\n",
    "# Be sure to close the plotter when finished\n",
    "plotter.close()"
   ]
  },
  {
   "cell_type": "markdown",
   "id": "ad52f12b",
   "metadata": {},
   "source": [
    "### Orbiting orthoplanes"
   ]
  },
  {
   "cell_type": "code",
   "execution_count": 11,
   "id": "35870c4f",
   "metadata": {
    "ExecuteTime": {
     "end_time": "2023-04-04T12:07:27.299371Z",
     "start_time": "2023-04-04T12:07:22.929251Z"
    },
    "scrolled": false
   },
   "outputs": [
    {
     "data": {
      "application/vnd.jupyter.widget-view+json": {
       "model_id": "7e64e4440a774ee995f12d07316d8ee8",
       "version_major": 2,
       "version_minor": 0
      },
      "text/plain": [
       "ViewInteractiveWidget(height=768, layout=Layout(height='auto', width='100%'), width=1024)"
      ]
     },
     "metadata": {},
     "output_type": "display_data"
    }
   ],
   "source": [
    "p = pv.Plotter()\n",
    "p.set_background('white')\n",
    "p.add_mesh(slices, lighting=False)\n",
    "p.camera.zoom(2.5)\n",
    "p.show(auto_close=False)\n",
    "path = p.generate_orbital_path(n_points=36, shift=mesh.length)\n",
    "filename='orthoplanes.mp4'\n",
    "#p.open_movie(filename)\n",
    "p.open_gif(\"orbit.gif\")\n",
    "p.orbit_on_path(path, write_frames=True)\n",
    "# p.orbit_on_path(path)\n",
    "p.close()"
   ]
  }
 ],
 "metadata": {
  "kernelspec": {
   "display_name": "Python 3 (ipykernel)",
   "language": "python",
   "name": "python3"
  },
  "language_info": {
   "codemirror_mode": {
    "name": "ipython",
    "version": 3
   },
   "file_extension": ".py",
   "mimetype": "text/x-python",
   "name": "python",
   "nbconvert_exporter": "python",
   "pygments_lexer": "ipython3",
   "version": "3.9.15"
  },
  "varInspector": {
   "cols": {
    "lenName": 16,
    "lenType": 16,
    "lenVar": 40
   },
   "kernels_config": {
    "python": {
     "delete_cmd_postfix": "",
     "delete_cmd_prefix": "del ",
     "library": "var_list.py",
     "varRefreshCmd": "print(var_dic_list())"
    },
    "r": {
     "delete_cmd_postfix": ") ",
     "delete_cmd_prefix": "rm(",
     "library": "var_list.r",
     "varRefreshCmd": "cat(var_dic_list()) "
    }
   },
   "types_to_exclude": [
    "module",
    "function",
    "builtin_function_or_method",
    "instance",
    "_Feature"
   ],
   "window_display": false
  }
 },
 "nbformat": 4,
 "nbformat_minor": 5
}
